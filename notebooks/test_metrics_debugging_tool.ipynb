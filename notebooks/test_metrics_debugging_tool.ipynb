{
 "cells": [
  {
   "cell_type": "code",
   "execution_count": 86,
   "metadata": {},
   "outputs": [
    {
     "name": "stdout",
     "output_type": "stream",
     "text": [
      "The autoreload extension is already loaded. To reload it, use:\n",
      "  %reload_ext autoreload\n"
     ]
    }
   ],
   "source": [
    "from datasets import load_dataset\n",
    "import pandas as pd\n",
    "from ir_eval.metrics import recall, precision, hole, ndcg\n",
    "from sentence_transformers import SentenceTransformer, util, CrossEncoder\n",
    "from ir_eval.utils_prompt import load_prompt_text, eval_prompt, preprocess_prompt\n",
    "import collections\n",
    "import os\n",
    "import json\n",
    "%load_ext autoreload\n",
    "%autoreload 2\n"
   ]
  },
  {
   "cell_type": "code",
   "execution_count": 3,
   "metadata": {},
   "outputs": [
    {
     "name": "stdout",
     "output_type": "stream",
     "text": [
      "* Running on local URL:  http://127.0.0.1:7862\n",
      "\n",
      "To create a public link, set `share=True` in `launch()`.\n"
     ]
    },
    {
     "data": {
      "text/html": [
       "<div><iframe src=\"http://127.0.0.1:7862/\" width=\"100%\" height=\"500\" allow=\"autoplay; camera; microphone; clipboard-read; clipboard-write;\" frameborder=\"0\" allowfullscreen></iframe></div>"
      ],
      "text/plain": [
       "<IPython.core.display.HTML object>"
      ]
     },
     "metadata": {},
     "output_type": "display_data"
    },
    {
     "data": {
      "text/plain": []
     },
     "execution_count": 3,
     "metadata": {},
     "output_type": "execute_result"
    }
   ],
   "source": [
    "import gradio as gr\n",
    "import numpy as np\n",
    "import html\n",
    "def highlight_tokens(query_tokens, query_weights, doc_tokens, doc_weights):\n",
    "    # Convert strings to lists if inputs are space-separated strings\n",
    "    if isinstance(query_tokens, str):\n",
    "        query_tokens = query_tokens.split()\n",
    "    if isinstance(doc_tokens, str):\n",
    "        doc_tokens = doc_tokens.split()\n",
    "        \n",
    "    # Convert weights to numpy arrays and normalize to [0,1]\n",
    "    query_weights = np.array([float(w) for w in query_weights.split()])\n",
    "    query_weights = (query_weights - query_weights.min()) / (query_weights.max() - query_weights.min() + 1e-8)\n",
    "    \n",
    "    doc_weights = np.array([float(w) for w in doc_weights.split()])\n",
    "    doc_weights = (doc_weights - doc_weights.min()) / (doc_weights.max() - doc_weights.min() + 1e-8)\n",
    "    \n",
    "    # Create HTML with colored tokens for query\n",
    "    query_html = []\n",
    "    for token, weight in zip(query_tokens, query_weights):\n",
    "        color = f\"rgb(255, {int(255*(1-weight))}, {int(255*(1-weight))})\"\n",
    "        query_html.append(f'<span style=\"background-color: {color}\">{html.escape(token)}</span>')\n",
    "    \n",
    "    # Create HTML with colored tokens for document\n",
    "    doc_html = []\n",
    "    query_tokens_set = set(query_tokens)\n",
    "    for token, weight in zip(doc_tokens, doc_weights):\n",
    "        color = f\"rgb(255, {int(255*(1-weight))}, {int(255*(1-weight))})\"\n",
    "        if token in query_tokens_set:\n",
    "            doc_html.append(f'<span style=\"background-color: {color}\"><u>{html.escape(token)}</u></span>')\n",
    "        else:\n",
    "            doc_html.append(f'<span style=\"background-color: {color}\">{html.escape(token)}</span>')\n",
    "    \n",
    "    # Return HTML with styled containers\n",
    "    return \"\"\"\n",
    "        <div style=\"margin: 10px; padding: 10px; border: 1px solid #ccc; border-radius: 5px;\">\n",
    "            <strong>Query:</strong><br>\n",
    "            <div style=\"padding: 5px;\">\"\"\" + \" \".join(query_html) + \"\"\"</div>\n",
    "        </div>\n",
    "        <div style=\"margin: 10px; padding: 10px; border: 1px solid #ccc; border-radius: 5px;\">\n",
    "            <strong>Document:</strong><br>\n",
    "            <div style=\"padding: 5px;\">\"\"\" + \" \".join(doc_html) + \"\"\"</div>\n",
    "        </div>\n",
    "    \"\"\"\n",
    "\n",
    "# Create Gradio interface\n",
    "iface = gr.Interface(\n",
    "    fn=highlight_tokens,\n",
    "    inputs=[\n",
    "        gr.Textbox(label=\"Query tokens (space-separated)\"),\n",
    "        gr.Textbox(label=\"Query weights (space-separated)\"),\n",
    "        gr.Textbox(label=\"Document tokens (space-separated)\"),\n",
    "        gr.Textbox(label=\"Document weights (space-separated)\")\n",
    "    ],\n",
    "    outputs=gr.HTML(label=\"Highlighted Tokens\"),\n",
    "    title=\"Token Importance Visualizer\",\n",
    "    description=\"Enter query and document tokens with their weights to visualize importance\"\n",
    ")\n",
    "\n",
    "iface.launch()"
   ]
  },
  {
   "cell_type": "code",
   "execution_count": null,
   "metadata": {},
   "outputs": [],
   "source": []
  }
 ],
 "metadata": {
  "kernelspec": {
   "display_name": "huggingface_lastest",
   "language": "python",
   "name": "python3"
  },
  "language_info": {
   "codemirror_mode": {
    "name": "ipython",
    "version": 3
   },
   "file_extension": ".py",
   "mimetype": "text/x-python",
   "name": "python",
   "nbconvert_exporter": "python",
   "pygments_lexer": "ipython3",
   "version": "3.11.11"
  }
 },
 "nbformat": 4,
 "nbformat_minor": 2
}
